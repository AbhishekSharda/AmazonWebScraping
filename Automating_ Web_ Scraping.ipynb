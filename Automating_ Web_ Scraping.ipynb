{
 "cells": [
  {
   "cell_type": "code",
   "execution_count": 2,
   "id": "b37ae731-05f5-4e13-b5f2-717f86d324ec",
   "metadata": {},
   "outputs": [
    {
     "name": "stdout",
     "output_type": "stream",
     "text": [
      "Collecting autoscraper\n",
      "  Downloading autoscraper-1.1.14-py3-none-any.whl (10 kB)\n",
      "Collecting bs4\n",
      "  Downloading bs4-0.0.1.tar.gz (1.1 kB)\n",
      "  Preparing metadata (setup.py): started\n",
      "  Preparing metadata (setup.py): finished with status 'done'\n",
      "Requirement already satisfied: requests in c:\\users\\hp\\anaconda3\\lib\\site-packages (from autoscraper) (2.28.1)\n",
      "Requirement already satisfied: lxml in c:\\users\\hp\\anaconda3\\lib\\site-packages (from autoscraper) (4.9.1)\n",
      "Requirement already satisfied: beautifulsoup4 in c:\\users\\hp\\anaconda3\\lib\\site-packages (from bs4->autoscraper) (4.11.1)\n",
      "Requirement already satisfied: certifi>=2017.4.17 in c:\\users\\hp\\anaconda3\\lib\\site-packages (from requests->autoscraper) (2022.9.14)\n",
      "Requirement already satisfied: idna<4,>=2.5 in c:\\users\\hp\\anaconda3\\lib\\site-packages (from requests->autoscraper) (3.3)\n",
      "Requirement already satisfied: charset-normalizer<3,>=2 in c:\\users\\hp\\anaconda3\\lib\\site-packages (from requests->autoscraper) (2.0.4)\n",
      "Requirement already satisfied: urllib3<1.27,>=1.21.1 in c:\\users\\hp\\anaconda3\\lib\\site-packages (from requests->autoscraper) (1.26.11)\n",
      "Requirement already satisfied: soupsieve>1.2 in c:\\users\\hp\\anaconda3\\lib\\site-packages (from beautifulsoup4->bs4->autoscraper) (2.3.1)\n",
      "Building wheels for collected packages: bs4\n",
      "  Building wheel for bs4 (setup.py): started\n",
      "  Building wheel for bs4 (setup.py): finished with status 'done'\n",
      "  Created wheel for bs4: filename=bs4-0.0.1-py3-none-any.whl size=1257 sha256=d0b4e81bec363f5a2f651fd3a53f9385f309aef32b8e60f51c56e7cdbb51af82\n",
      "  Stored in directory: c:\\users\\hp\\appdata\\local\\pip\\cache\\wheels\\73\\2b\\cb\\099980278a0c9a3e57ff1a89875ec07bfa0b6fcbebb9a8cad3\n",
      "Successfully built bs4\n",
      "Installing collected packages: bs4, autoscraper\n",
      "Successfully installed autoscraper-1.1.14 bs4-0.0.1\n",
      "Note: you may need to restart the kernel to use updated packages.\n"
     ]
    }
   ],
   "source": [
    "pip install autoscraper\n"
   ]
  },
  {
   "cell_type": "code",
   "execution_count": 18,
   "id": "9afce855-be74-4f3e-b512-57c22e7abdc4",
   "metadata": {},
   "outputs": [],
   "source": [
    "from autoscraper import AutoScraper"
   ]
  },
  {
   "cell_type": "code",
   "execution_count": 19,
   "id": "cf60158d-2b15-45bf-9bcc-40d3e62638b8",
   "metadata": {},
   "outputs": [],
   "source": [
    "### Making a list of things(price,title,stars) I want to scrape from amazon.ca,I searched for data science books\n",
    "\n",
    "amazon_url=\"https://www.amazon.ca/s?k=data+science+books\"\n",
    "\n",
    "info_needed=[\"$57.00\",\"Data Analysis for Social Science: A Friendly and Practical Introduction\",\"8\"]"
   ]
  },
  {
   "cell_type": "code",
   "execution_count": 20,
   "id": "d62252d4-2b58-4df2-b84e-a60c62dbce58",
   "metadata": {},
   "outputs": [
    {
     "name": "stdout",
     "output_type": "stream",
     "text": [
      "['$52.00', '$55.73', '$80.05', '$93.13', '$17.99', '$21.99', '$32.72', '$62.91', '$73.98', '$48.92', '$93.22', '$59.99', '$48.98', '$93.39', '$0.00', '$69.50', '$84.56', '$93.73', '$7.95', '$57.00', '$3.90', '$18.88', '$66.35', '$18.89', '$31.00', '$72.00', '$62.65', '$53.99', '$77.93', '$28.21', '$60.38', '$22.00', '$46.99', '$60.00', '$25.00', '$75.03', '$107.62', '$42.39', '$47.99', '$39.99', '$14.99', '$15.77', '$67.99', '$84.99', '$51.00', '$106.74', '$45.95', '$56.99', '$61.93', '$65.99', '$25.72', '$33.95', '$47.96', '$76.48', '$7.99', '$8.99', '$15.48', '$16.95', '$28.27', '$35.99', '$54.00', '$20.93', '$22.99', 'Ace the Data Science Interview: 201 Real Interview Questions Asked By FAANG, Tech Startups, & Wall Street', 'Data Science from Scratch: First Principles with Python', 'Python Data Science Handbook: Essential Tools for Working with Data', 'Data Science (The MIT Press Essential Knowledge series)', 'The Data Science Handbook: Advice and Insights from 25 Amazing Data Scientists', 'R for Data Science: Import, Tidy, Transform, Visualize, and Model Data', 'Essential Math for Data Science: Take Control of Your Data with Fundamental Linear Algebra, Probability, and Statistics', 'The Kaggle Book: Data analysis and machine learning for competitive data science', 'Practical Statistics for Data Scientists: 50+ Essential Concepts Using R and Python', 'Knowledge Graphs and Big Data Processing (Lecture Notes in Computer Science Book 12072)', 'Data Science: Concepts and Practice', 'Data Analytics for Absolute Beginners: A Deconstructed Guide to Data Literacy: (Introduction to Data, Data Visualization, Business Intelligence & Machine Learning)', 'Data Analysis for Social Science: A Friendly and Practical Introduction', 'Data Science Interview: Prep for SQL, Panda, Python, R Language, Machine Learning, DBMS and RDBMS – And More – The Full Data Scientist Interview Handbook', \"Data Science: What the Best Data Scientists Know About Data Analytics, Data Mining, Statistics, Machine Learning, and Big Data – That You Don't\", 'Designing Data-Intensive Applications: The Big Ideas Behind Reliable, Scalable, and Maintainable Systems', 'The Intelligent Investor: The Definitive Book on Value Investing', 'Data Science and Big Data Analytics: Discovering, Analyzing, Visualizing and Presenting Data', 'Data Science for Business: What You Need to Know About Data Mining and Data-Analytic Thinking', 'Hands-On Data Analysis with Pandas: A Python data science handbook for data collection, wrangling, analysis, and visualization, 2nd Edition', 'Data Science: A First Introduction', 'Data Science: Mindset, Methodologies, and Misconceptions', 'Invisible Women: Data Bias in a World Designed for Men', 'Python Data Analysis: Perform data collection, data processing, wrangling, visualization, and model building using Python, 3rd Edition', 'Data Analysis Using SQL and Excel', 'Data Science: The Ultimate Guide to Data Analytics, Data Mining, Data Warehousing, Data Visualization, Regression Analysis, Database Querying, Big Data for Business and Machine Learning for Beginners', 'Practical Linear Algebra for Data Science: From Core Concepts to Applications Using Python', 'Becoming a Data Head: How to Think, Speak, and Understand Data Science, Statistics, and Machine Learning', 'Python for Data Science: A Hands-On Introduction', \"Everything Data Analytics-A Beginner's Guide to Data Literacy: Understanding the Processes That Turn Data Into Insights\", 'Cracking the Data Science Interview: 101+ Data Science Questions & Solutions', 'Python Data Science Handbook', 'Python for Data Analysis: Data Wrangling with pandas, NumPy, and Jupyter', 'Data Science in Context: Foundations, Challenges, Opportunities', 'Graph Data Science with Neo4j: Learn how to use Neo4j 5 with Graph Data Science library 2.0 and its Python driver for your project', 'Practical Data Science with R, Second Edition', \"Unsettled: What Climate Science Tells Us, What It Doesn't, and Why It Matters\", 'Baby University Four-Book Set', 'Fundamentals of Data Engineering: Plan and Build Robust Data Systems', 'Data Analytics, Data Visualization & Communicating Data: 3 books in 1: Learn the Processes of Data Analytics and Data Science, Create Engaging Data Visualizations, ... Present Data Effectively (All Things Data)', 'Down the Brain Drain (Volume 8)', 'Robots Rule the School (Volume 4)', 'Complete MathSmart 4: Grade 4', 'The Art of Data Science', 'Complete MathSmart 9: The Ultimate Canadian Curriculum Math Workbook for High Schools!', 'Data Smart: Using Data Science to Transform Information into Insight', 'Complete MathSmart 3: Grade 3', 'The Art of Statistics: Learning from Data', 'Data Analytics for Absolute Beginners: A Deconstructed Guide to Data Literacy: (Introduction to Data, Data Visualization, ...', 'Data Science Interview: Prep for SQL, Panda, Python, R Language, Machine Learning, DBMS and RDBMS – And More – The Full Da...', 'Data Science: What the Best Data Scientists Know About Data Analytics, Data Mining, Statistics, Machine Learning, and Big ...', 'Hands-On Data Analysis with Pandas: A Python data science handbook for data collection, wrangling, analysis, and visualiza...', 'Python Data Analysis: Perform data collection, data processing, wrangling, visualization, and model building using Python,...', 'Data Science: The Ultimate Guide to Data Analytics, Data Mining, Data Warehousing, Data Visualization, Regression Analysi...', 'Graph Data Science with Neo4j: Learn how to use Neo4j 5 with Graph Data Science library 2.0 and its Python driver for your...', 'Data Analytics, Data Visualization & Communicating Data: 3 books in 1: Learn the Processes of Data Analytics and Data Scie...', '8', '10', '671', '607', '735', '407', '44', '1,491', '84', '776', '77', '9', '337', '287', 'Free with Kindle Unlimited membership', 'Or $9.99 to buy', '4,382', '36,336', '186', 'Only 5 left in stock (more on the way).', '1,048', '72', 'FREE delivery', '8,946', '41', '94', '45', '216', '14', '50', '47', '3', '55', '34', '4,088', '5,532', '126', 'Or $0.00 to buy', '57', 'FREE delivery Thu, Feb 16 on your first order', 'Ages: 5 - 9 years', '69', 'Only 2 left in stock (more on the way).', '140', '51', '487', '333', '117', '2,961', '1', '6', '7', '11', '12', '13', '15', '16', '17', '18', '19', '20', '21', '22', '23', '24', '29', '30', '31', '32', '33', '35', '36', '37', '38', '39', '40', '42', '43', '46', '48', '49', '52', '53', '54', '56', '2', '4', '5', '25', '26', '27', '28', '58', '59', '60']\n"
     ]
    }
   ],
   "source": [
    "###passing  url and info I want from webpage to AutoScraper build function\n",
    "scraper=AutoScraper()\n",
    "result=scraper.build(amazon_url,info_needed)\n",
    "print(result)"
   ]
  },
  {
   "cell_type": "code",
   "execution_count": 28,
   "id": "1f6e4c72-8a8e-4edb-bc63-3812b0e4adea",
   "metadata": {},
   "outputs": [
    {
     "data": {
      "text/plain": [
       "{'rule_0qdp': ['$52.00',\n",
       "  '$55.73',\n",
       "  '$80.05',\n",
       "  '$93.13',\n",
       "  '$17.99',\n",
       "  '$21.99',\n",
       "  '$32.72',\n",
       "  '$62.91',\n",
       "  '$73.98',\n",
       "  '$48.92',\n",
       "  '$93.22',\n",
       "  '$0.00',\n",
       "  '$69.50',\n",
       "  '$59.99',\n",
       "  '$48.98',\n",
       "  '$93.39',\n",
       "  '$7.95',\n",
       "  '$3.90',\n",
       "  '$18.88',\n",
       "  '$84.56',\n",
       "  '$93.73',\n",
       "  '$57.00',\n",
       "  '$0.00',\n",
       "  '$72.00',\n",
       "  '$0.00',\n",
       "  '$62.65',\n",
       "  '$66.35',\n",
       "  '$80.05',\n",
       "  '$53.99',\n",
       "  '$77.93',\n",
       "  '$28.21',\n",
       "  '$60.38',\n",
       "  '$46.99',\n",
       "  '$60.00',\n",
       "  '$0.00',\n",
       "  '$25.00',\n",
       "  '$75.03',\n",
       "  '$107.62',\n",
       "  '$42.39',\n",
       "  '$47.99',\n",
       "  '$39.99',\n",
       "  '$14.99',\n",
       "  '$15.77',\n",
       "  '$67.99',\n",
       "  '$84.99',\n",
       "  '$51.00',\n",
       "  '$106.74',\n",
       "  '$45.95',\n",
       "  '$56.99',\n",
       "  '$61.93',\n",
       "  '$65.99',\n",
       "  '$25.72',\n",
       "  '$33.95',\n",
       "  '$47.96',\n",
       "  '$76.48',\n",
       "  '$107.62',\n",
       "  '$0.00',\n",
       "  '$7.99',\n",
       "  '$8.99',\n",
       "  '$28.27',\n",
       "  '$16.95',\n",
       "  '$19.99',\n",
       "  '$18.95',\n",
       "  '$22.95',\n",
       "  '$19.99',\n",
       "  '$35.99',\n",
       "  '$54.00',\n",
       "  '$7.99',\n",
       "  '$78.97',\n",
       "  '$70.48',\n",
       "  '$93.39'],\n",
       " 'rule_9o2o': ['Ace the Data Science Interview: 201 Real Interview Questions Asked By FAANG, Tech Startups, & Wall Street',\n",
       "  'Data Science from Scratch: First Principles with Python',\n",
       "  'Python Data Science Handbook: Essential Tools for Working with Data',\n",
       "  'Data Science (The MIT Press Essential Knowledge series)',\n",
       "  'The Data Science Handbook: Advice and Insights from 25 Amazing Data Scientists',\n",
       "  'R for Data Science: Import, Tidy, Transform, Visualize, and Model Data',\n",
       "  'Essential Math for Data Science: Take Control of Your Data with Fundamental Linear Algebra, Probability, and Statistics',\n",
       "  'Knowledge Graphs and Big Data Processing (Lecture Notes in Computer Science Book 12072)',\n",
       "  'The Kaggle Book: Data analysis and machine learning for competitive data science',\n",
       "  'Practical Statistics for Data Scientists: 50+ Essential Concepts Using R and Python',\n",
       "  'Data Analytics for Absolute Beginners: A Deconstructed Guide to Data Literacy: (Introduction to Data, Data Visualization, Business Intelligence & Machine Learning)',\n",
       "  \"Data Science: What the Best Data Scientists Know About Data Analytics, Data Mining, Statistics, Machine Learning, and Big Data – That You Don't\",\n",
       "  'Data Science: Concepts and Practice',\n",
       "  'Data Analysis for Social Science: A Friendly and Practical Introduction',\n",
       "  'Data Science Interview: Prep for SQL, Panda, Python, R Language, Machine Learning, DBMS and RDBMS – And More – The Full Data Scientist Interview Handbook',\n",
       "  'Data Science and Big Data Analytics: Discovering, Analyzing, Visualizing and Presenting Data',\n",
       "  'Data Science for Business: What You Need to Know About Data Mining and Data-Analytic Thinking',\n",
       "  'Designing Data-Intensive Applications: The Big Ideas Behind Reliable, Scalable, and Maintainable Systems',\n",
       "  'Hands-On Data Analysis with Pandas: A Python data science handbook for data collection, wrangling, analysis, and visualization, 2nd Edition',\n",
       "  'Data Science: A First Introduction',\n",
       "  'Data Science: Mindset, Methodologies, and Misconceptions',\n",
       "  'Python Data Analysis: Perform data collection, data processing, wrangling, visualization, and model building using Python, 3rd Edition',\n",
       "  'Data Analysis Using SQL and Excel',\n",
       "  'Data Science: The Ultimate Guide to Data Analytics, Data Mining, Data Warehousing, Data Visualization, Regression Analysis, Database Querying, Big Data for Business and Machine Learning for Beginners',\n",
       "  'Practical Linear Algebra for Data Science: From Core Concepts to Applications Using Python',\n",
       "  'Becoming a Data Head: How to Think, Speak, and Understand Data Science, Statistics, and Machine Learning',\n",
       "  'Python for Data Science: A Hands-On Introduction',\n",
       "  \"Everything Data Analytics-A Beginner's Guide to Data Literacy: Understanding the Processes That Turn Data Into Insights\",\n",
       "  'Cracking the Data Science Interview: 101+ Data Science Questions & Solutions',\n",
       "  'Python Data Science Handbook',\n",
       "  'Python for Data Analysis: Data Wrangling with pandas, NumPy, and Jupyter',\n",
       "  'Data Science in Context: Foundations, Challenges, Opportunities',\n",
       "  'Graph Data Science with Neo4j: Learn how to use Neo4j 5 with Graph Data Science library 2.0 and its Python driver for your project',\n",
       "  'Practical Data Science with R, Second Edition',\n",
       "  \"Unsettled: What Climate Science Tells Us, What It Doesn't, and Why It Matters\",\n",
       "  'Baby University Four-Book Set',\n",
       "  'Fundamentals of Data Engineering: Plan and Build Robust Data Systems',\n",
       "  'Data Analytics, Data Visualization & Communicating Data: 3 books in 1: Learn the Processes of Data Analytics and Data Science, Create Engaging Data Visualizations, ... Present Data Effectively (All Things Data)',\n",
       "  'Robots Rule the School (Volume 4)',\n",
       "  'The Art of Data Science',\n",
       "  'Complete MathSmart 9: The Ultimate Canadian Curriculum Math Workbook for High Schools!',\n",
       "  'The Science of Golf: The Math, Technology, and Data',\n",
       "  'Naked Statistics: Stripping The Dread From The Data',\n",
       "  'The Science of Hockey: The Math, Technology, and Data Behind the Sport',\n",
       "  'Data Smart: Using Data Science to Transform Information into Insight',\n",
       "  'The Sky Is Falling (Volume 3)',\n",
       "  'Data Smart. Usando Data Science Para Transformar Informação em Insight',\n",
       "  'Data Science on AWS: Implementing End-to-End, Continuous AI and Machine Learning Pipelines']}"
      ]
     },
     "execution_count": 28,
     "metadata": {},
     "output_type": "execute_result"
    }
   ],
   "source": [
    "### Grouping by category, eg. Title, Price,Stars\n",
    "scraper.get_result_similar(amazon_url,grouped=True)"
   ]
  },
  {
   "cell_type": "code",
   "execution_count": 24,
   "id": "c4496a7b-3baf-43c9-a220-9b2cd348bd89",
   "metadata": {},
   "outputs": [],
   "source": [
    "### Providing alias to Title ,Price and saving the original rules\n",
    "scraper.set_rule_aliases({'rule_9o2o':'Title','rule_0qdp':'Price'})\n",
    "scraper.keep_rules(['rule_9o2o','rule_0qdp'])\n",
    "scraper.save(\"amazon-search\")"
   ]
  },
  {
   "cell_type": "code",
   "execution_count": 26,
   "id": "550450ec-6fba-4623-aa55-8bf60c8a27bb",
   "metadata": {},
   "outputs": [
    {
     "data": {
      "text/plain": [
       "['$32.00',\n",
       " '$36.99',\n",
       " '$29.99',\n",
       " '$19.95',\n",
       " '$25.95',\n",
       " '$0.00',\n",
       " '$101.19',\n",
       " '$29.99',\n",
       " '$19.99',\n",
       " '$25.68',\n",
       " '$27.00',\n",
       " '$24.58',\n",
       " '$25.75',\n",
       " '$20.54',\n",
       " '$23.99',\n",
       " '$29.28',\n",
       " '$20.37',\n",
       " '$27.03',\n",
       " '$21.99',\n",
       " '$0.00',\n",
       " '$39.22',\n",
       " '$39.95',\n",
       " '$0.00',\n",
       " '$12.99',\n",
       " '$51.95',\n",
       " '$26.78',\n",
       " '$22.99',\n",
       " '$24.99',\n",
       " '$37.67',\n",
       " '$32.50',\n",
       " '$0.00',\n",
       " '$43.95',\n",
       " '$69.99',\n",
       " '$83.50',\n",
       " '$8.99',\n",
       " '$45.77',\n",
       " '$20.25',\n",
       " '$12.20',\n",
       " '$14.99',\n",
       " '$0.00',\n",
       " '$19.87',\n",
       " '$0.00',\n",
       " '$126.77',\n",
       " '$45.00',\n",
       " '$19.10',\n",
       " '$19.79',\n",
       " '$21.99',\n",
       " '$109.85',\n",
       " '$24.95',\n",
       " '$24.99',\n",
       " '$53.00',\n",
       " '$29.99']"
      ]
     },
     "execution_count": 26,
     "metadata": {},
     "output_type": "execute_result"
    }
   ],
   "source": [
    "### Providing a different URL to test the scraping model I built, Search: physics books\n",
    "results=scraper.get_result_similar(\"https://www.amazon.ca/s?k=physics+books\",group_by_alias=True)\n",
    "results['Price']"
   ]
  },
  {
   "cell_type": "code",
   "execution_count": null,
   "id": "14d513bf-3132-453c-b5e4-75cdacb0d20c",
   "metadata": {},
   "outputs": [],
   "source": []
  }
 ],
 "metadata": {
  "kernelspec": {
   "display_name": "Python 3 (ipykernel)",
   "language": "python",
   "name": "python3"
  },
  "language_info": {
   "codemirror_mode": {
    "name": "ipython",
    "version": 3
   },
   "file_extension": ".py",
   "mimetype": "text/x-python",
   "name": "python",
   "nbconvert_exporter": "python",
   "pygments_lexer": "ipython3",
   "version": "3.9.13"
  }
 },
 "nbformat": 4,
 "nbformat_minor": 5
}
